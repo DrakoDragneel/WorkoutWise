{
 "cells": [
  {
   "cell_type": "code",
   "execution_count": 1,
   "id": "004c38ef",
   "metadata": {},
   "outputs": [
    {
     "name": "stdout",
     "output_type": "stream",
     "text": [
      "LogisticRegression()\n",
      "CalibratedClassifierCV(base_estimator=SGDClassifier())\n",
      "{'LR': LogisticRegression(), 'SVC': SVC(probability=True), 'KNN': KNeighborsClassifier(), 'DTC': DecisionTreeClassifier(), 'SGDC': CalibratedClassifierCV(base_estimator=SGDClassifier()), 'NB': GaussianNB(), 'RF': RandomForestClassifier()}\n"
     ]
    }
   ],
   "source": [
    "import pickle\n",
    "\n",
    "# Load each model one by one\n",
    "with open('LR_model.pkl', 'rb') as file:\n",
    "    lr_model = pickle.load(file)\n",
    "    print(lr_model)\n",
    "\n",
    "with open('SGDC_model.pkl', 'rb') as file:\n",
    "    sgdc_model = pickle.load(file)\n",
    "    print(sgdc_model)\n",
    "\n",
    "with open('sklearn_models.pkl', 'rb') as file:\n",
    "    models = pickle.load(file)\n",
    "    print(models)\n"
   ]
  },
  {
   "cell_type": "code",
   "execution_count": null,
   "id": "74a20c46",
   "metadata": {},
   "outputs": [],
   "source": []
  }
 ],
 "metadata": {
  "kernelspec": {
   "display_name": "Python 3",
   "language": "python",
   "name": "python3"
  },
  "language_info": {
   "codemirror_mode": {
    "name": "ipython",
    "version": 3
   },
   "file_extension": ".py",
   "mimetype": "text/x-python",
   "name": "python",
   "nbconvert_exporter": "python",
   "pygments_lexer": "ipython3",
   "version": "3.10.11"
  }
 },
 "nbformat": 4,
 "nbformat_minor": 5
}
